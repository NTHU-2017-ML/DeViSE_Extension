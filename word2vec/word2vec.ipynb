{
 "cells": [
  {
   "cell_type": "code",
   "execution_count": 1,
   "metadata": {
    "collapsed": true
   },
   "outputs": [],
   "source": [
    "import gensim"
   ]
  },
  {
   "cell_type": "code",
   "execution_count": 2,
   "metadata": {},
   "outputs": [],
   "source": [
    "model = gensim.models.KeyedVectors.load_word2vec_format(\"wiki.en.vec\", binary=False)"
   ]
  },
  {
   "cell_type": "code",
   "execution_count": 3,
   "metadata": {},
   "outputs": [
    {
     "name": "stderr",
     "output_type": "stream",
     "text": [
      "2017-11-15 14:43:01,000 : INFO : precomputing L2-norms of word weight vectors\n",
      "2017-11-15 14:44:23,325 : INFO : capital-common-countries: 95.8% (485/506)\n",
      "2017-11-15 14:44:35,059 : INFO : capital-world: 94.8% (2131/2247)\n",
      "2017-11-15 14:44:35,458 : INFO : currency: 1.4% (1/70)\n",
      "2017-11-15 14:44:46,578 : INFO : city-in-state: 74.6% (1644/2203)\n",
      "2017-11-15 14:44:48,635 : INFO : family: 86.6% (329/380)\n",
      "2017-11-15 14:44:52,468 : INFO : gram1-adjective-to-adverb: 51.5% (389/756)\n",
      "2017-11-15 14:44:54,612 : INFO : gram2-opposite: 58.1% (244/420)\n",
      "2017-11-15 14:45:00,656 : INFO : gram3-comparative: 87.1% (1037/1190)\n",
      "2017-11-15 14:45:03,185 : INFO : gram4-superlative: 80.8% (409/506)\n",
      "2017-11-15 14:45:07,883 : INFO : gram5-present-participle: 71.3% (663/930)\n",
      "2017-11-15 14:45:15,065 : INFO : gram6-nationality-adjective: 98.7% (1353/1371)\n",
      "2017-11-15 14:45:23,156 : INFO : gram7-past-tense: 65.1% (916/1406)\n",
      "2017-11-15 14:45:28,701 : INFO : gram8-plural: 88.9% (882/992)\n",
      "2017-11-15 14:45:32,056 : INFO : gram9-plural-verbs: 70.2% (421/600)\n",
      "2017-11-15 14:45:32,059 : INFO : total: 80.3% (10904/13577)\n"
     ]
    },
    {
     "name": "stdout",
     "output_type": "stream",
     "text": [
      "[('queen', 0.6606323719024658),\n",
      " ('princess', 0.5824028253555298),\n",
      " ('regnant', 0.5788114070892334),\n",
      " ('princesses', 0.5610353946685791),\n",
      " ('consort', 0.5389299988746643),\n",
      " ('regnants', 0.5266367793083191),\n",
      " ('queenmother', 0.5214954614639282),\n",
      " ('monarch', 0.5059499144554138),\n",
      " ('‘princess', 0.5048949718475342),\n",
      " ('parmaprincess', 0.5012947916984558)]\n"
     ]
    }
   ],
   "source": [
    "import logging\n",
    "import pprint\n",
    "\n",
    "# for logging\n",
    "logging.basicConfig(format='%(asctime)s : %(levelname)s : %(message)s', level=logging.INFO)\n",
    "# Load evaluation dataset of analogy task \n",
    "model.accuracy('questions-words.txt')\n",
    "# execute analogy task like king - man + woman = queen\n",
    "pprint.pprint(model.most_similar(positive=['woman', 'king'], negative=['man']))"
   ]
  },
  {
   "cell_type": "code",
   "execution_count": 25,
   "metadata": {},
   "outputs": [
    {
     "name": "stdout",
     "output_type": "stream",
     "text": [
      "king queen\n",
      "計算 Cosine 相似度\n",
      "0.649309274377\n"
     ]
    }
   ],
   "source": [
    "try:\n",
    "    query = input()\n",
    "    q_list = query.split()\n",
    "\n",
    "    if len(q_list) == 1:\n",
    "        print(\"相似詞前 10 排序\")\n",
    "        res = model.most_similar(q_list[0],topn = 10)\n",
    "        for item in res:\n",
    "            print(item[0]+\",\"+str(item[1]))\n",
    "\n",
    "    elif len(q_list) == 2:\n",
    "        print(\"計算 Cosine 相似度\")\n",
    "        res = model.similarity(q_list[0],q_list[1])\n",
    "        print(res)\n",
    "    else:\n",
    "        print(\"%s之於%s，如%s之於\" % (q_list[0],q_list[2],q_list[1]))\n",
    "        res = model.most_similar([q_list[0],q_list[1]], [q_list[2]], topn= 100)\n",
    "        for item in res:\n",
    "            print(item[0]+\",\"+str(item[1]))\n",
    "        print(\"----------------------------\")\n",
    "except Exception as e:\n",
    "    print(repr(e))"
   ]
  },
  {
   "cell_type": "code",
   "execution_count": null,
   "metadata": {
    "collapsed": true
   },
   "outputs": [],
   "source": []
  }
 ],
 "metadata": {
  "kernelspec": {
   "display_name": "Python 3",
   "language": "python",
   "name": "python3"
  },
  "language_info": {
   "codemirror_mode": {
    "name": "ipython",
    "version": 3
   },
   "file_extension": ".py",
   "mimetype": "text/x-python",
   "name": "python",
   "nbconvert_exporter": "python",
   "pygments_lexer": "ipython3",
   "version": "3.5.4"
  }
 },
 "nbformat": 4,
 "nbformat_minor": 2
}
